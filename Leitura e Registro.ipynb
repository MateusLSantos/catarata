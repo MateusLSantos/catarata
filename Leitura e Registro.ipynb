{
 "cells": [
  {
   "cell_type": "code",
   "execution_count": 3,
   "metadata": {},
   "outputs": [],
   "source": [
    "import os\n",
    "import subprocess\n",
    "import shutil\n",
    "import pandas\n",
    "from tkinter import simpledialog\n",
    "import tkinter as tk"
   ]
  },
  {
   "cell_type": "code",
   "execution_count": null,
   "metadata": {},
   "outputs": [],
   "source": [
    "#Inicialização de variáveis\n",
    "patients = [];\n",
    "errors = [];\n",
    "chrome_path = 'C:\\\\Program Files (x86)\\\\Google\\\\Chrome\\\\Application\\\\chrome.exe'\n",
    "#start = input(\"Iniciar em qual paciente?\");"
   ]
  },
  {
   "cell_type": "code",
   "execution_count": null,
   "metadata": {},
   "outputs": [],
   "source": [
    "#Leitura dos dataframes pré-existentes\n",
    "#surgeryFrame = pandas.read_excel(\"CIRURGIAS.xlsx\")\n",
    "data = pandas.read_excel(\"Output.xlsx\")"
   ]
  },
  {
   "cell_type": "markdown",
   "metadata": {},
   "source": [
    "## ATENÇÃO: AQUI AINDA FALTA FILTRAR OS PACIENTES QUE JÁ ESTÃO NO XLSX DE SAÍDA E SELECIONAR O PRÓXIMO PACIENTE ALEATORIAMENTE"
   ]
  },
  {
   "cell_type": "code",
   "execution_count": null,
   "metadata": {},
   "outputs": [],
   "source": [
    "#Redirecionamento para o diretório de pacientes\n",
    "os.chdir(\"./Pacientes\")\n",
    "\n",
    "#Coletando nomes de pacientes\n",
    "for root, directory, files in os.walk(\".\"):\n",
    "    if(root != \".\"):\n",
    "        patients.append(root[2:])\n",
    "\n",
    "patients = sorted(patients)"
   ]
  },
  {
   "cell_type": "code",
   "execution_count": null,
   "metadata": {},
   "outputs": [],
   "source": [
    "def storeFiles():\n",
    "    files = []\n",
    "    for root, directory, file in os.walk('.'):\n",
    "        pass\n",
    "        #files.append(file)\n",
    "    return file"
   ]
  },
  {
   "cell_type": "code",
   "execution_count": null,
   "metadata": {},
   "outputs": [],
   "source": [
    "def createPatientDF(name):\n",
    "    cols = ['Nome', 'Registro', 'Data da Cirurgia', 'Olho', 'Dioptria', 'Lente', 'Modelo', 'Data Pré-op', 'Esférico Pré-op',\n",
    "            'Cilindro Pré-op', 'Eixo Pré-op', 'Data Pós-op', 'Esférico Pós-op', 'Cilindro Pós-op', 'Eixo Pós-op']\n",
    "    patientDF = pandas.DataFrame(columns = cols)\n",
    "    return patientDF"
   ]
  },
  {
   "cell_type": "code",
   "execution_count": null,
   "metadata": {},
   "outputs": [],
   "source": [
    "def getSurgeries(patientDF, files):\n",
    "    for file in files:\n",
    "        if 'PRONTU' in file:\n",
    "            subprocess.Popen([chrome_path, file])"
   ]
  },
  {
   "cell_type": "code",
   "execution_count": null,
   "metadata": {
    "scrolled": true
   },
   "outputs": [],
   "source": [
    "#Iterando pelos pacientes\n",
    "for patient in patients:\n",
    "    os.chdir(\"./\" + patient)\n",
    "    \n",
    "    files = storeFiles()"
   ]
  },
  {
   "cell_type": "code",
   "execution_count": 6,
   "metadata": {},
   "outputs": [],
   "source": [
    "def salvarDados():\n",
    "    pass"
   ]
  },
  {
   "cell_type": "code",
   "execution_count": 7,
   "metadata": {},
   "outputs": [],
   "source": [
    "def voltar():\n",
    "    pass"
   ]
  },
  {
   "cell_type": "code",
   "execution_count": 8,
   "metadata": {},
   "outputs": [],
   "source": [
    "def avancar():\n",
    "    pass"
   ]
  },
  {
   "cell_type": "code",
   "execution_count": 9,
   "metadata": {},
   "outputs": [],
   "source": [
    "def salvarErro():\n",
    "    pass"
   ]
  },
  {
   "cell_type": "code",
   "execution_count": 10,
   "metadata": {},
   "outputs": [],
   "source": [
    "def sair():\n",
    "    pass"
   ]
  },
  {
   "cell_type": "code",
   "execution_count": 21,
   "metadata": {},
   "outputs": [],
   "source": [
    "root = tk.Tk()\n",
    "\n",
    "tk.Label(root, text=\"Registro\").grid(row=0)\n",
    "tk.Label(root, text=\"Data da Cirurgia (apenas números)\").grid(row=1)\n",
    "tk.Label(root, text=\"Olho\").grid(row=2)\n",
    "tk.Label(root, text=\"Dioptria\").grid(row=3)\n",
    "tk.Label(root, text=\"Modelo da Lente\").grid(row=4)\n",
    "\n",
    "reg = tk.Entry(root)\n",
    "data = tk.Entry(root)\n",
    "olho = tk.Entry(root)\n",
    "dioptria = tk.Entry(root)\n",
    "modelo = tk.Entry(root)\n",
    "\n",
    "reg.grid(row=0, column=1)\n",
    "data.grid(row=1, column=1)\n",
    "olho.grid(row=2, column=1)\n",
    "dioptria.grid(row=3, column=1)\n",
    "modelo.grid(row=4, column=1)\n",
    "\n",
    "tk.Button(root, text=\"Anterior\", command=voltar()).grid(row=5, column=0, pady=4)\n",
    "tk.Button(root, text=\"Ok\", command=salvarDados()).grid(row=5, column=1, pady=4)\n",
    "tk.Button(root, text=\"Próximo\", command=avancar()).grid(row=5, column=2, pady=4)\n",
    "tk.Button(root, text=\"Erro\", command=salvarErro()).grid(row=6, column=0, pady=4)\n",
    "tk.Button(root, text=\"Sair\", command=sair()).grid(row=6, column=1)\n",
    "\n",
    "root.mainloop()"
   ]
  },
  {
   "cell_type": "markdown",
   "metadata": {},
   "source": [
    "## LIXO"
   ]
  },
  {
   "cell_type": "markdown",
   "metadata": {},
   "source": [
    "#Processando DataFrames\n",
    "def upperCaseFrame():\n",
    "    names = []\n",
    "    for patient in surgeryFrame[\"PACIENTE\"]:\n",
    "        names.append(patient.upper())\n",
    "    surgeryFrame[\"PACIENTE\"] = names\n",
    "\n",
    "#upperCaseFrame()"
   ]
  },
  {
   "cell_type": "markdown",
   "metadata": {},
   "source": [
    "def createPatientDF(name):\n",
    "    '''if surgeryFrame[\"PACIENTE\"].str.contains(name).sum() > 0:\n",
    "        #Inicialização do Dataframe\n",
    "        cols = list(surgeryFrame.columns)\n",
    "        newCols = [\"Data pré-op\".upper(), \"Esférico pré-op\".upper(), \"Cilíndrico  pré-op\".upper(), \"Eixo  pré-op\".upper(), \n",
    "                                          \"Data pós-op\".upper(), \"Esférico pós-op\".upper(), \"Cilíndrico  pós-op\".upper(), \"Eixo  pós-op\".upper()]\n",
    "        cols.extend(newCols)\n",
    "        patientDF = pandas.DataFrame(columns = cols)\n",
    "        \n",
    "        #Copiando informações do Dataframe original\n",
    "        return patientDF\n",
    "    else:\n",
    "        errors.append(name)'''"
   ]
  }
 ],
 "metadata": {
  "kernelspec": {
   "display_name": "Python 3",
   "language": "python",
   "name": "python3"
  },
  "language_info": {
   "codemirror_mode": {
    "name": "ipython",
    "version": 3
   },
   "file_extension": ".py",
   "mimetype": "text/x-python",
   "name": "python",
   "nbconvert_exporter": "python",
   "pygments_lexer": "ipython3",
   "version": "3.7.0"
  }
 },
 "nbformat": 4,
 "nbformat_minor": 2
}
